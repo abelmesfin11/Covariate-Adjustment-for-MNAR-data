{
 "cells": [
  {
   "cell_type": "code",
   "execution_count": 1,
   "metadata": {},
   "outputs": [],
   "source": [
    "from missforest.missforest import MissForest\n",
    "from sklearn.model_selection import train_test_split\n",
    "from graphviz import Digraph\n",
    "import statsmodels.api as sm\n",
    "import statsmodels.formula.api as smf\n",
    "import numpy as np\n",
    "import pandas as pd\n",
    "from sklearn.ensemble import RandomForestRegressor, RandomForestClassifier"
   ]
  },
  {
   "cell_type": "code",
   "execution_count": 2,
   "metadata": {},
   "outputs": [
    {
     "name": "stdout",
     "output_type": "stream",
     "text": [
      "         seqn  qsmk  death  yrdth  modth  dadth    sbp   dbp  sex   age  ...  \\\n",
      "0       233.0   0.0    0.0   83.0    8.0    1.0  175.0  96.0  0.0  69.0  ...   \n",
      "1     22914.0   0.0    0.0   83.0    8.0    1.0  123.0  80.0  0.0  36.0  ...   \n",
      "2       244.0   0.0    0.0   83.0    8.0    1.0  115.0  75.0  1.0  56.0  ...   \n",
      "3       245.0   0.0    1.0   85.0    2.0   14.0  148.0  78.0  0.0  68.0  ...   \n",
      "4       252.0   0.0    0.0   83.0    8.0    1.0  118.0  77.0  0.0  40.0  ...   \n",
      "...       ...   ...    ...    ...    ...    ...    ...   ...  ...   ...  ...   \n",
      "1624  25014.0   0.0    0.0   83.0    8.0    1.0  115.0  66.0  0.0  45.0  ...   \n",
      "1625  25016.0   0.0    0.0   83.0    8.0    1.0  124.0  80.0  1.0  47.0  ...   \n",
      "1626  25024.0   0.0    0.0   83.0    8.0    1.0  114.0  74.0  1.0  51.0  ...   \n",
      "1627  25032.0   0.0    0.0   83.0    8.0    1.0  171.0  77.0  0.0  68.0  ...   \n",
      "1628  25061.0   1.0    0.0   83.0    8.0    1.0  136.0  90.0  0.0  29.0  ...   \n",
      "\n",
      "      birthcontrol  pregnancies  cholesterol  hightax82   price71   price82  \\\n",
      "0              0.0          1.0        197.0        0.0  2.183594  1.739990   \n",
      "1              2.0          1.0        301.0        0.0  2.346680  1.797363   \n",
      "2              0.0          2.0        157.0        0.0  1.569580  1.513428   \n",
      "3              2.0          1.0        174.0        0.0  1.506592  1.451904   \n",
      "4              2.0          1.0        216.0        0.0  2.346680  1.797363   \n",
      "...            ...          ...          ...        ...       ...       ...   \n",
      "1624           2.0          1.0        236.0        0.0  2.167969  1.940186   \n",
      "1625           0.0          2.0        270.0        0.0  2.167969  1.940186   \n",
      "1626           0.0          3.0        228.0        0.0  1.800781  1.647705   \n",
      "1627           2.0          1.0        223.0        0.0  2.167969  1.940186   \n",
      "1628           2.0          1.0        243.0        0.0  2.167969  1.940186   \n",
      "\n",
      "         tax71     tax82  price71_82  tax71_82  \n",
      "0     0.892456  0.461975    0.333679  0.640381  \n",
      "1     0.892456  0.571899    0.549316  0.792969  \n",
      "2     0.551270  0.230988    0.056198  0.320251  \n",
      "3     0.524902  0.219971    0.054794  0.304993  \n",
      "4     1.364990  0.571899    0.549316  0.792969  \n",
      "...        ...       ...         ...       ...  \n",
      "1624  1.049805  0.549927    0.227875  0.500000  \n",
      "1625  1.049805  0.549927    0.227875  0.500000  \n",
      "1626  0.734985  0.461975    0.152985  0.272949  \n",
      "1627  1.049805  0.549927    0.227875  0.500000  \n",
      "1628  1.049805  0.549927    0.227875  0.500000  \n",
      "\n",
      "[1629 rows x 64 columns]\n"
     ]
    }
   ],
   "source": [
    "df = pd.read_csv(\"nhefs.csv\")\n",
    "\n",
    "for c in df.columns:\n",
    "    random_index = np.random.choice(df.index, size=100)\n",
    "    df.loc[random_index, c] = np.nan\n",
    "\n",
    "clf = RandomForestClassifier(n_jobs=-1)\n",
    "rgr = RandomForestRegressor(n_jobs=-1)\n",
    "\n",
    "mf = MissForest(clf, rgr)\n",
    "df_imputed = mf.fit_transform(df)\n",
    "print(df_imputed)"
   ]
  }
 ],
 "metadata": {
  "kernelspec": {
   "display_name": "Python 3",
   "language": "python",
   "name": "python3"
  },
  "language_info": {
   "codemirror_mode": {
    "name": "ipython",
    "version": 3
   },
   "file_extension": ".py",
   "mimetype": "text/x-python",
   "name": "python",
   "nbconvert_exporter": "python",
   "pygments_lexer": "ipython3",
   "version": "3.11.1"
  }
 },
 "nbformat": 4,
 "nbformat_minor": 2
}
